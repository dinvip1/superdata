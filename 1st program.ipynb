{
 "cells": [
  {
   "cell_type": "code",
   "execution_count": 2,
   "id": "c21d30ae",
   "metadata": {},
   "outputs": [
    {
     "name": "stdout",
     "output_type": "stream",
     "text": [
      "first python program\n"
     ]
    }
   ],
   "source": [
    "print(\"first python program\")"
   ]
  },
  {
   "cell_type": "markdown",
   "id": "e213f66d",
   "metadata": {},
   "source": [
    "# my first program"
   ]
  },
  {
   "cell_type": "markdown",
   "id": "440972fb",
   "metadata": {},
   "source": [
    "print(\"This is Dinesh\")"
   ]
  },
  {
   "cell_type": "code",
   "execution_count": null,
   "id": "512426bc",
   "metadata": {},
   "outputs": [],
   "source": []
  }
 ],
 "metadata": {
  "kernelspec": {
   "display_name": "Python 3 (ipykernel)",
   "language": "python",
   "name": "python3"
  },
  "language_info": {
   "codemirror_mode": {
    "name": "ipython",
    "version": 3
   },
   "file_extension": ".py",
   "mimetype": "text/x-python",
   "name": "python",
   "nbconvert_exporter": "python",
   "pygments_lexer": "ipython3",
   "version": "3.11.3"
  }
 },
 "nbformat": 4,
 "nbformat_minor": 5
}
